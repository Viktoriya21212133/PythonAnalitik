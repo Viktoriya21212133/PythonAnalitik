{
 "cells": [
  {
   "cell_type": "markdown",
   "id": "9cd7fed2",
   "metadata": {},
   "source": [
    "## Задача 9. Ответьте на несколько вопросов"
   ]
  },
  {
   "cell_type": "code",
   "execution_count": 31,
   "id": "e94e75c8",
   "metadata": {},
   "outputs": [],
   "source": [
    "import pandas as pd"
   ]
  },
  {
   "cell_type": "code",
   "execution_count": 32,
   "id": "29195cb4",
   "metadata": {},
   "outputs": [],
   "source": [
    "df = pd.read_csv('Desktop/PH_Analitik/laptop_price.csv', encoding='windows-1251', index_col = 'laptop_ID')"
   ]
  },
  {
   "cell_type": "markdown",
   "id": "660052a0",
   "metadata": {},
   "source": [
    "- 3.1. Ноутбуков от какой компании больше всего в наборе данных"
   ]
  },
  {
   "cell_type": "code",
   "execution_count": 33,
   "id": "38a5dcac",
   "metadata": {},
   "outputs": [
    {
     "data": {
      "text/plain": [
       "Company\n",
       "Dell         297\n",
       "Lenovo       297\n",
       "HP           274\n",
       "Asus         158\n",
       "Acer         103\n",
       "MSI           54\n",
       "Toshiba       48\n",
       "Apple         21\n",
       "Samsung        9\n",
       "Razer          7\n",
       "Mediacom       7\n",
       "Microsoft      6\n",
       "Xiaomi         4\n",
       "Vero           4\n",
       "Chuwi          3\n",
       "Google         3\n",
       "Fujitsu        3\n",
       "LG             3\n",
       "Huawei         2\n",
       "Name: count, dtype: int64"
      ]
     },
     "execution_count": 33,
     "metadata": {},
     "output_type": "execute_result"
    }
   ],
   "source": [
    "df['Company'].value_counts()"
   ]
  },
  {
   "cell_type": "code",
   "execution_count": 36,
   "id": "af0332c4",
   "metadata": {},
   "outputs": [
    {
     "data": {
      "text/plain": [
       "297"
      ]
     },
     "execution_count": 36,
     "metadata": {},
     "output_type": "execute_result"
    }
   ],
   "source": [
    "df_company = df['Company'].value_counts()\n",
    "df_company.max()"
   ]
  },
  {
   "cell_type": "code",
   "execution_count": 37,
   "id": "fc035585",
   "metadata": {},
   "outputs": [
    {
     "data": {
      "text/plain": [
       "'Dell'"
      ]
     },
     "execution_count": 37,
     "metadata": {},
     "output_type": "execute_result"
    }
   ],
   "source": [
    "df_company.idxmax()"
   ]
  },
  {
   "cell_type": "code",
   "execution_count": 39,
   "id": "907ad5be",
   "metadata": {},
   "outputs": [
    {
     "data": {
      "text/plain": [
       "Company\n",
       "Dell      297\n",
       "Lenovo    297\n",
       "Name: count, dtype: int64"
      ]
     },
     "execution_count": 39,
     "metadata": {},
     "output_type": "execute_result"
    }
   ],
   "source": [
    "df_company[df_company == df_company.max()]"
   ]
  },
  {
   "cell_type": "markdown",
   "id": "414bc53e",
   "metadata": {},
   "source": [
    "- 3.2. Какая минимальная и максимальная стоимость у ноутбуков в данных?"
   ]
  },
  {
   "cell_type": "code",
   "execution_count": 40,
   "id": "2a152b79",
   "metadata": {},
   "outputs": [
    {
     "data": {
      "text/plain": [
       "(174.0, 6099.0)"
      ]
     },
     "execution_count": 40,
     "metadata": {},
     "output_type": "execute_result"
    }
   ],
   "source": [
    "df['Price_euros'].min(),df['Price_euros'].max(),"
   ]
  },
  {
   "cell_type": "markdown",
   "id": "d8f54ee8",
   "metadata": {},
   "source": [
    "- 3.3. Какой самый дорогой ноутбук в данных? Выведите все характеристики только по этому ноутбуку. Если таких ноутбуков несколько, то выведите их всех."
   ]
  },
  {
   "cell_type": "code",
   "execution_count": 45,
   "id": "eab8b342",
   "metadata": {},
   "outputs": [
    {
     "data": {
      "text/plain": [
       "Company                                           Razer\n",
       "Product                                       Blade Pro\n",
       "TypeName                                         Gaming\n",
       "Inches                                             17.3\n",
       "ScreenResolution    4K Ultra HD / Touchscreen 3840x2160\n",
       "Cpu                         Intel Core i7 7820HK 2.9GHz\n",
       "Ram                                                32GB\n",
       "Memory                                          1TB SSD\n",
       "Gpu                             Nvidia GeForce GTX 1080\n",
       "OpSys                                        Windows 10\n",
       "Weight                                           3.49kg\n",
       "Price_euros                                      6099.0\n",
       "Name: 200, dtype: object"
      ]
     },
     "execution_count": 45,
     "metadata": {},
     "output_type": "execute_result"
    }
   ],
   "source": [
    "df.sort_values('Price_euros', ascending=False).iloc[0]"
   ]
  },
  {
   "cell_type": "code",
   "execution_count": 47,
   "id": "ef27d15c",
   "metadata": {},
   "outputs": [
    {
     "data": {
      "text/html": [
       "<div>\n",
       "<style scoped>\n",
       "    .dataframe tbody tr th:only-of-type {\n",
       "        vertical-align: middle;\n",
       "    }\n",
       "\n",
       "    .dataframe tbody tr th {\n",
       "        vertical-align: top;\n",
       "    }\n",
       "\n",
       "    .dataframe thead th {\n",
       "        text-align: right;\n",
       "    }\n",
       "</style>\n",
       "<table border=\"1\" class=\"dataframe\">\n",
       "  <thead>\n",
       "    <tr style=\"text-align: right;\">\n",
       "      <th></th>\n",
       "      <th>Company</th>\n",
       "      <th>Product</th>\n",
       "      <th>TypeName</th>\n",
       "      <th>Inches</th>\n",
       "      <th>ScreenResolution</th>\n",
       "      <th>Cpu</th>\n",
       "      <th>Ram</th>\n",
       "      <th>Memory</th>\n",
       "      <th>Gpu</th>\n",
       "      <th>OpSys</th>\n",
       "      <th>Weight</th>\n",
       "      <th>Price_euros</th>\n",
       "    </tr>\n",
       "    <tr>\n",
       "      <th>laptop_ID</th>\n",
       "      <th></th>\n",
       "      <th></th>\n",
       "      <th></th>\n",
       "      <th></th>\n",
       "      <th></th>\n",
       "      <th></th>\n",
       "      <th></th>\n",
       "      <th></th>\n",
       "      <th></th>\n",
       "      <th></th>\n",
       "      <th></th>\n",
       "      <th></th>\n",
       "    </tr>\n",
       "  </thead>\n",
       "  <tbody>\n",
       "    <tr>\n",
       "      <th>200</th>\n",
       "      <td>Razer</td>\n",
       "      <td>Blade Pro</td>\n",
       "      <td>Gaming</td>\n",
       "      <td>17.3</td>\n",
       "      <td>4K Ultra HD / Touchscreen 3840x2160</td>\n",
       "      <td>Intel Core i7 7820HK 2.9GHz</td>\n",
       "      <td>32GB</td>\n",
       "      <td>1TB SSD</td>\n",
       "      <td>Nvidia GeForce GTX 1080</td>\n",
       "      <td>Windows 10</td>\n",
       "      <td>3.49kg</td>\n",
       "      <td>6099.0</td>\n",
       "    </tr>\n",
       "  </tbody>\n",
       "</table>\n",
       "</div>"
      ],
      "text/plain": [
       "          Company    Product TypeName  Inches  \\\n",
       "laptop_ID                                       \n",
       "200         Razer  Blade Pro   Gaming    17.3   \n",
       "\n",
       "                              ScreenResolution                          Cpu  \\\n",
       "laptop_ID                                                                     \n",
       "200        4K Ultra HD / Touchscreen 3840x2160  Intel Core i7 7820HK 2.9GHz   \n",
       "\n",
       "            Ram   Memory                      Gpu       OpSys  Weight  \\\n",
       "laptop_ID                                                               \n",
       "200        32GB  1TB SSD  Nvidia GeForce GTX 1080  Windows 10  3.49kg   \n",
       "\n",
       "           Price_euros  \n",
       "laptop_ID               \n",
       "200             6099.0  "
      ]
     },
     "execution_count": 47,
     "metadata": {},
     "output_type": "execute_result"
    }
   ],
   "source": [
    "df[df['Price_euros'] == df['Price_euros'].max()]"
   ]
  }
 ],
 "metadata": {
  "kernelspec": {
   "display_name": "Python 3 (ipykernel)",
   "language": "python",
   "name": "python3"
  },
  "language_info": {
   "codemirror_mode": {
    "name": "ipython",
    "version": 3
   },
   "file_extension": ".py",
   "mimetype": "text/x-python",
   "name": "python",
   "nbconvert_exporter": "python",
   "pygments_lexer": "ipython3",
   "version": "3.11.4"
  }
 },
 "nbformat": 4,
 "nbformat_minor": 5
}
