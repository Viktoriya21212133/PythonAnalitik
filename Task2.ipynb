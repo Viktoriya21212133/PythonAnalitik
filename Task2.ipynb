{
 "cells": [
  {
   "cell_type": "markdown",
   "id": "0d0e725d",
   "metadata": {},
   "source": [
    "## Задача 2"
   ]
  },
  {
   "cell_type": "markdown",
   "id": "99f1a7ff",
   "metadata": {},
   "source": [
    "### Напишите функцию, которая из двух списков, делает один словарь, где элементы из первого списка - ключи, а элементы из второго списка - значения"
   ]
  },
  {
   "cell_type": "markdown",
   "id": "12dd6d3e",
   "metadata": {},
   "source": [
    "### 2.1. Используя цикл for "
   ]
  },
  {
   "cell_type": "code",
   "execution_count": 22,
   "id": "c1c47f33",
   "metadata": {},
   "outputs": [],
   "source": [
    "keys = ['One', 'Two', 'Three']\n",
    "values = [1, 2, 3]"
   ]
  },
  {
   "cell_type": "code",
   "execution_count": 25,
   "id": "c0f1babe",
   "metadata": {},
   "outputs": [],
   "source": [
    "def dictunion2(k: list, v: list) -> dict: \n",
    "    dict_1 = {}\n",
    "    for i in range(len(k)):\n",
    "        dict_1[k[i]] = v[i]\n",
    "    return dict_1"
   ]
  },
  {
   "cell_type": "code",
   "execution_count": 26,
   "id": "79f3038e",
   "metadata": {},
   "outputs": [
    {
     "data": {
      "text/plain": [
       "{'One': 1, 'Two': 2, 'Three': 3}"
      ]
     },
     "execution_count": 26,
     "metadata": {},
     "output_type": "execute_result"
    }
   ],
   "source": [
    "dictunion2(keys, values)"
   ]
  },
  {
   "cell_type": "markdown",
   "id": "decff510",
   "metadata": {},
   "source": [
    "### 2.2. Используя dict comprehensions"
   ]
  },
  {
   "cell_type": "code",
   "execution_count": 30,
   "id": "c9262577",
   "metadata": {},
   "outputs": [
    {
     "data": {
      "text/plain": [
       "{'One': 1, 'Two': 2, 'Three': 3}"
      ]
     },
     "execution_count": 30,
     "metadata": {},
     "output_type": "execute_result"
    }
   ],
   "source": [
    "new_dict = {keys[i] : values[i] for i in range(len(keys))}\n",
    "new_dict"
   ]
  },
  {
   "cell_type": "code",
   "execution_count": null,
   "id": "4f109423",
   "metadata": {},
   "outputs": [],
   "source": []
  }
 ],
 "metadata": {
  "kernelspec": {
   "display_name": "Python 3 (ipykernel)",
   "language": "python",
   "name": "python3"
  },
  "language_info": {
   "codemirror_mode": {
    "name": "ipython",
    "version": 3
   },
   "file_extension": ".py",
   "mimetype": "text/x-python",
   "name": "python",
   "nbconvert_exporter": "python",
   "pygments_lexer": "ipython3",
   "version": "3.11.4"
  }
 },
 "nbformat": 4,
 "nbformat_minor": 5
}
