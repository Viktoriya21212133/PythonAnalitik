{
 "cells": [
  {
   "cell_type": "markdown",
   "id": "1a476358",
   "metadata": {},
   "source": [
    "## Задача 6"
   ]
  },
  {
   "cell_type": "markdown",
   "id": "05666daa",
   "metadata": {},
   "source": [
    "### Напишите функцию, которая может принимать любое количество трат пользователя и считать сумму и среднее. На вход поступает целочисленное значения в любом количестве. На выходе словарь с ключами трат и средней траты"
   ]
  },
  {
   "cell_type": "code",
   "execution_count": 2,
   "id": "4118e27e",
   "metadata": {},
   "outputs": [
    {
     "data": {
      "text/plain": [
       "{'сумма': 109, 'среднее': 27.25}"
      ]
     },
     "execution_count": 2,
     "metadata": {},
     "output_type": "execute_result"
    }
   ],
   "source": [
    "def calc(*args):\n",
    "    sum_args = sum(args)\n",
    "    count_args = len(args)\n",
    "    avg_args = sum_args / count_args\n",
    "    return{\"сумма\": sum_args, \"среднее\": avg_args}\n",
    "calc(2, 6, 67, 34)"
   ]
  }
 ],
 "metadata": {
  "kernelspec": {
   "display_name": "Python 3 (ipykernel)",
   "language": "python",
   "name": "python3"
  },
  "language_info": {
   "codemirror_mode": {
    "name": "ipython",
    "version": 3
   },
   "file_extension": ".py",
   "mimetype": "text/x-python",
   "name": "python",
   "nbconvert_exporter": "python",
   "pygments_lexer": "ipython3",
   "version": "3.11.4"
  }
 },
 "nbformat": 4,
 "nbformat_minor": 5
}
