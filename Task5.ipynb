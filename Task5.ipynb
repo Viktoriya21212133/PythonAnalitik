{
 "cells": [
  {
   "cell_type": "markdown",
   "id": "2c63188d",
   "metadata": {},
   "source": [
    "## Задача 5"
   ]
  },
  {
   "cell_type": "markdown",
   "id": "25342071",
   "metadata": {},
   "source": [
    "## 5.1. Найдите картинку в интернете и прикрепите ее в ячейку с текстом"
   ]
  },
  {
   "cell_type": "markdown",
   "id": "905078ba",
   "metadata": {},
   "source": [
    "<img scr=https://avatars.mds.yandex.net/i?id=dccefa6ed17b70e6fd3db3b607bd59f644527da4-9211743-images-thumbs&n=13>"
   ]
  },
  {
   "cell_type": "markdown",
   "id": "8d0acafc",
   "metadata": {},
   "source": [
    "## 5.2. Создайте следующую таблицу в ячейке с текстом "
   ]
  },
  {
   "cell_type": "markdown",
   "id": "f047223d",
   "metadata": {},
   "source": [
    "<table>\n",
    "    <tr>\n",
    "        <td></td>\n",
    "        <td>До события </td>\n",
    "        <td>Во время события </td>\n",
    "     </tr>  \n",
    "    <tr>\n",
    "        <td>1 точка </td>\n",
    "        <td>250 </td>\n",
    "        <td>500 </td>\n",
    "    </tr> \n",
    "    <tr>\n",
    "        <td>2 точка </td>\n",
    "        <td>350 </td>\n",
    "        <td>700 </td>\n",
    "    </tr> \n",
    "    <tr>\n",
    "        <td>3 точка </td>\n",
    "        <td>400 </td>\n",
    "        <td>800 </td>\n",
    "    </tr> \n",
    "    <tr>\n",
    "        <td>Итого </td>\n",
    "        <td>1000 </td>\n",
    "        <td>2000 </td>\n",
    "    </tr> \n",
    "</table>"
   ]
  },
  {
   "cell_type": "code",
   "execution_count": null,
   "id": "185e4b62",
   "metadata": {},
   "outputs": [],
   "source": []
  }
 ],
 "metadata": {
  "kernelspec": {
   "display_name": "Python 3 (ipykernel)",
   "language": "python",
   "name": "python3"
  },
  "language_info": {
   "codemirror_mode": {
    "name": "ipython",
    "version": 3
   },
   "file_extension": ".py",
   "mimetype": "text/x-python",
   "name": "python",
   "nbconvert_exporter": "python",
   "pygments_lexer": "ipython3",
   "version": "3.11.4"
  }
 },
 "nbformat": 4,
 "nbformat_minor": 5
}
