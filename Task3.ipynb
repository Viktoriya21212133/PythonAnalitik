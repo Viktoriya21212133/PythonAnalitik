{
 "cells": [
  {
   "cell_type": "markdown",
   "id": "97a4df70",
   "metadata": {},
   "source": [
    "### Задача 3"
   ]
  },
  {
   "cell_type": "markdown",
   "id": "67d1f840",
   "metadata": {},
   "source": [
    "### Извлеките только два ключа name и age из представленного словаря \n",
    "client_dict = {\"name\": \"John\", \"age\":25, \"salary\": 5000, \"city\": \"Moskow\"}"
   ]
  },
  {
   "cell_type": "markdown",
   "id": "8250b55a",
   "metadata": {},
   "source": [
    "### 3.1. Напишите  функцию с циклом for \n",
    "\n",
    "Функция на вход принимает:\n",
    "\n",
    "    - исходный словарь\n",
    "    - ключи, которые нужно извлечь (аргумент по умолчанию)\n",
    "    \n",
    "На выходе словарь с нужными ключами\n",
    "Используйте аннотирование типов "
   ]
  },
  {
   "cell_type": "code",
   "execution_count": 5,
   "id": "70a33adf",
   "metadata": {},
   "outputs": [],
   "source": [
    "client_dict = {\"name\": \"John\", \"age\":25, \"salary\": 5000, \"city\": \"Moskow\"}"
   ]
  },
  {
   "cell_type": "code",
   "execution_count": 7,
   "id": "75f804c1",
   "metadata": {},
   "outputs": [
    {
     "data": {
      "text/plain": [
       "{'name': 'John', 'age': 25}"
      ]
     },
     "execution_count": 7,
     "metadata": {},
     "output_type": "execute_result"
    }
   ],
   "source": [
    "def get_keys(dictionary: dict, keys: list=[\"name\", \"age\"]) -> dict:\n",
    "    result = {}\n",
    "    for k in keys:\n",
    "        result[k]=dictionary[k]\n",
    "    return result\n",
    "get_keys(client_dict)"
   ]
  },
  {
   "cell_type": "markdown",
   "id": "4f4143aa",
   "metadata": {},
   "source": [
    "### 3.2. Используя dict comprehensions"
   ]
  },
  {
   "cell_type": "code",
   "execution_count": 8,
   "id": "be59641d",
   "metadata": {},
   "outputs": [
    {
     "name": "stdout",
     "output_type": "stream",
     "text": [
      "{'name': 'John', 'age': 25}\n"
     ]
    }
   ],
   "source": [
    "client_dict = {\"name\": \"John\", \"age\":25, \"salary\": 5000, \"city\": \"Moskow\"}\n",
    "my_dictionary = {k: client_dict[k] for k in [\"name\", \"age\"]}\n",
    "print(my_dictionary)"
   ]
  },
  {
   "cell_type": "code",
   "execution_count": null,
   "id": "dcd86a3a",
   "metadata": {},
   "outputs": [],
   "source": []
  }
 ],
 "metadata": {
  "kernelspec": {
   "display_name": "Python 3 (ipykernel)",
   "language": "python",
   "name": "python3"
  },
  "language_info": {
   "codemirror_mode": {
    "name": "ipython",
    "version": 3
   },
   "file_extension": ".py",
   "mimetype": "text/x-python",
   "name": "python",
   "nbconvert_exporter": "python",
   "pygments_lexer": "ipython3",
   "version": "3.11.4"
  }
 },
 "nbformat": 4,
 "nbformat_minor": 5
}
