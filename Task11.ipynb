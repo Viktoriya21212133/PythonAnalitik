{
 "cells": [
  {
   "cell_type": "markdown",
   "id": "faffd53e",
   "metadata": {},
   "source": [
    "## Задача 11. Выберите ноутбук клиенту "
   ]
  },
  {
   "cell_type": "code",
   "execution_count": 31,
   "id": "34f08bcc",
   "metadata": {},
   "outputs": [],
   "source": [
    "import pandas as pd"
   ]
  },
  {
   "cell_type": "code",
   "execution_count": 32,
   "id": "85cae89e",
   "metadata": {},
   "outputs": [],
   "source": [
    "df = pd.read_csv('Desktop/PH_Analitik/laptop_price.csv', encoding='windows-1251', index_col = 'laptop_ID')"
   ]
  },
  {
   "cell_type": "markdown",
   "id": "61db9c5e",
   "metadata": {},
   "source": [
    "### 1. Выберите ноутбук клиенту.\n",
    "\n",
    "Клиент хочет подобрать ноутбук с 8GB или 16GB ОЗУ на Windows 10 в стоимости до 500 евро. Сколько у него вариантов?"
   ]
  },
  {
   "cell_type": "code",
   "execution_count": 77,
   "id": "cd706097",
   "metadata": {},
   "outputs": [
    {
     "data": {
      "text/html": [
       "<div>\n",
       "<style scoped>\n",
       "    .dataframe tbody tr th:only-of-type {\n",
       "        vertical-align: middle;\n",
       "    }\n",
       "\n",
       "    .dataframe tbody tr th {\n",
       "        vertical-align: top;\n",
       "    }\n",
       "\n",
       "    .dataframe thead th {\n",
       "        text-align: right;\n",
       "    }\n",
       "</style>\n",
       "<table border=\"1\" class=\"dataframe\">\n",
       "  <thead>\n",
       "    <tr style=\"text-align: right;\">\n",
       "      <th></th>\n",
       "      <th>Company</th>\n",
       "      <th>Product</th>\n",
       "      <th>TypeName</th>\n",
       "      <th>Inches</th>\n",
       "      <th>ScreenResolution</th>\n",
       "      <th>Cpu</th>\n",
       "      <th>Ram</th>\n",
       "      <th>Memory</th>\n",
       "      <th>Gpu</th>\n",
       "      <th>OpSys</th>\n",
       "      <th>Weight</th>\n",
       "      <th>Price_euros</th>\n",
       "    </tr>\n",
       "    <tr>\n",
       "      <th>laptop_ID</th>\n",
       "      <th></th>\n",
       "      <th></th>\n",
       "      <th></th>\n",
       "      <th></th>\n",
       "      <th></th>\n",
       "      <th></th>\n",
       "      <th></th>\n",
       "      <th></th>\n",
       "      <th></th>\n",
       "      <th></th>\n",
       "      <th></th>\n",
       "      <th></th>\n",
       "    </tr>\n",
       "  </thead>\n",
       "  <tbody>\n",
       "    <tr>\n",
       "      <th>1</th>\n",
       "      <td>Apple</td>\n",
       "      <td>MacBook Pro</td>\n",
       "      <td>Ultrabook</td>\n",
       "      <td>13.3</td>\n",
       "      <td>IPS Panel Retina Display 2560x1600</td>\n",
       "      <td>Intel Core i5 2.3GHz</td>\n",
       "      <td>8GB</td>\n",
       "      <td>128GB SSD</td>\n",
       "      <td>Intel Iris Plus Graphics 640</td>\n",
       "      <td>macOS</td>\n",
       "      <td>1.37kg</td>\n",
       "      <td>1339.69</td>\n",
       "    </tr>\n",
       "    <tr>\n",
       "      <th>2</th>\n",
       "      <td>Apple</td>\n",
       "      <td>Macbook Air</td>\n",
       "      <td>Ultrabook</td>\n",
       "      <td>13.3</td>\n",
       "      <td>1440x900</td>\n",
       "      <td>Intel Core i5 1.8GHz</td>\n",
       "      <td>8GB</td>\n",
       "      <td>128GB Flash Storage</td>\n",
       "      <td>Intel HD Graphics 6000</td>\n",
       "      <td>macOS</td>\n",
       "      <td>1.34kg</td>\n",
       "      <td>898.94</td>\n",
       "    </tr>\n",
       "    <tr>\n",
       "      <th>3</th>\n",
       "      <td>HP</td>\n",
       "      <td>250 G6</td>\n",
       "      <td>Notebook</td>\n",
       "      <td>15.6</td>\n",
       "      <td>Full HD 1920x1080</td>\n",
       "      <td>Intel Core i5 7200U 2.5GHz</td>\n",
       "      <td>8GB</td>\n",
       "      <td>256GB SSD</td>\n",
       "      <td>Intel HD Graphics 620</td>\n",
       "      <td>No OS</td>\n",
       "      <td>1.86kg</td>\n",
       "      <td>575.00</td>\n",
       "    </tr>\n",
       "    <tr>\n",
       "      <th>4</th>\n",
       "      <td>Apple</td>\n",
       "      <td>MacBook Pro</td>\n",
       "      <td>Ultrabook</td>\n",
       "      <td>15.4</td>\n",
       "      <td>IPS Panel Retina Display 2880x1800</td>\n",
       "      <td>Intel Core i7 2.7GHz</td>\n",
       "      <td>16GB</td>\n",
       "      <td>512GB SSD</td>\n",
       "      <td>AMD Radeon Pro 455</td>\n",
       "      <td>macOS</td>\n",
       "      <td>1.83kg</td>\n",
       "      <td>2537.45</td>\n",
       "    </tr>\n",
       "    <tr>\n",
       "      <th>5</th>\n",
       "      <td>Apple</td>\n",
       "      <td>MacBook Pro</td>\n",
       "      <td>Ultrabook</td>\n",
       "      <td>13.3</td>\n",
       "      <td>IPS Panel Retina Display 2560x1600</td>\n",
       "      <td>Intel Core i5 3.1GHz</td>\n",
       "      <td>8GB</td>\n",
       "      <td>256GB SSD</td>\n",
       "      <td>Intel Iris Plus Graphics 650</td>\n",
       "      <td>macOS</td>\n",
       "      <td>1.37kg</td>\n",
       "      <td>1803.60</td>\n",
       "    </tr>\n",
       "    <tr>\n",
       "      <th>...</th>\n",
       "      <td>...</td>\n",
       "      <td>...</td>\n",
       "      <td>...</td>\n",
       "      <td>...</td>\n",
       "      <td>...</td>\n",
       "      <td>...</td>\n",
       "      <td>...</td>\n",
       "      <td>...</td>\n",
       "      <td>...</td>\n",
       "      <td>...</td>\n",
       "      <td>...</td>\n",
       "      <td>...</td>\n",
       "    </tr>\n",
       "    <tr>\n",
       "      <th>1303</th>\n",
       "      <td>Lenovo</td>\n",
       "      <td>Yoga 900-13ISK</td>\n",
       "      <td>2 in 1 Convertible</td>\n",
       "      <td>13.3</td>\n",
       "      <td>IPS Panel Quad HD+ / Touchscreen 3200x1800</td>\n",
       "      <td>Intel Core i7 6500U 2.5GHz</td>\n",
       "      <td>16GB</td>\n",
       "      <td>512GB SSD</td>\n",
       "      <td>Intel HD Graphics 520</td>\n",
       "      <td>Windows 10</td>\n",
       "      <td>1.3kg</td>\n",
       "      <td>1499.00</td>\n",
       "    </tr>\n",
       "    <tr>\n",
       "      <th>1307</th>\n",
       "      <td>Asus</td>\n",
       "      <td>ZenBook UX305CA-UBM1</td>\n",
       "      <td>Ultrabook</td>\n",
       "      <td>13.3</td>\n",
       "      <td>IPS Panel Full HD 1920x1080</td>\n",
       "      <td>Intel Core M 6Y30 0.9GHz</td>\n",
       "      <td>8GB</td>\n",
       "      <td>512GB SSD</td>\n",
       "      <td>Intel HD Graphics 515</td>\n",
       "      <td>Windows 10</td>\n",
       "      <td>1.2kg</td>\n",
       "      <td>729.00</td>\n",
       "    </tr>\n",
       "    <tr>\n",
       "      <th>1311</th>\n",
       "      <td>Lenovo</td>\n",
       "      <td>IdeaPad Y700-15ISK</td>\n",
       "      <td>Notebook</td>\n",
       "      <td>15.6</td>\n",
       "      <td>IPS Panel Full HD 1920x1080</td>\n",
       "      <td>Intel Core i7 6700HQ 2.6GHz</td>\n",
       "      <td>8GB</td>\n",
       "      <td>1TB HDD</td>\n",
       "      <td>Nvidia GeForce GTX 960M</td>\n",
       "      <td>Windows 10</td>\n",
       "      <td>2.6kg</td>\n",
       "      <td>899.00</td>\n",
       "    </tr>\n",
       "    <tr>\n",
       "      <th>1313</th>\n",
       "      <td>Dell</td>\n",
       "      <td>Inspiron 3567</td>\n",
       "      <td>Notebook</td>\n",
       "      <td>15.6</td>\n",
       "      <td>1366x768</td>\n",
       "      <td>Intel Core i7 7500U 2.7GHz</td>\n",
       "      <td>8GB</td>\n",
       "      <td>1TB HDD</td>\n",
       "      <td>AMD Radeon R5 M430</td>\n",
       "      <td>Linux</td>\n",
       "      <td>2.3kg</td>\n",
       "      <td>805.99</td>\n",
       "    </tr>\n",
       "    <tr>\n",
       "      <th>1317</th>\n",
       "      <td>Lenovo</td>\n",
       "      <td>Yoga 900-13ISK</td>\n",
       "      <td>2 in 1 Convertible</td>\n",
       "      <td>13.3</td>\n",
       "      <td>IPS Panel Quad HD+ / Touchscreen 3200x1800</td>\n",
       "      <td>Intel Core i7 6500U 2.5GHz</td>\n",
       "      <td>16GB</td>\n",
       "      <td>512GB SSD</td>\n",
       "      <td>Intel HD Graphics 520</td>\n",
       "      <td>Windows 10</td>\n",
       "      <td>1.3kg</td>\n",
       "      <td>1499.00</td>\n",
       "    </tr>\n",
       "  </tbody>\n",
       "</table>\n",
       "<p>819 rows × 12 columns</p>\n",
       "</div>"
      ],
      "text/plain": [
       "          Company               Product            TypeName  Inches  \\\n",
       "laptop_ID                                                             \n",
       "1           Apple           MacBook Pro           Ultrabook    13.3   \n",
       "2           Apple           Macbook Air           Ultrabook    13.3   \n",
       "3              HP                250 G6            Notebook    15.6   \n",
       "4           Apple           MacBook Pro           Ultrabook    15.4   \n",
       "5           Apple           MacBook Pro           Ultrabook    13.3   \n",
       "...           ...                   ...                 ...     ...   \n",
       "1303       Lenovo        Yoga 900-13ISK  2 in 1 Convertible    13.3   \n",
       "1307         Asus  ZenBook UX305CA-UBM1           Ultrabook    13.3   \n",
       "1311       Lenovo    IdeaPad Y700-15ISK            Notebook    15.6   \n",
       "1313         Dell         Inspiron 3567            Notebook    15.6   \n",
       "1317       Lenovo        Yoga 900-13ISK  2 in 1 Convertible    13.3   \n",
       "\n",
       "                                     ScreenResolution  \\\n",
       "laptop_ID                                               \n",
       "1                  IPS Panel Retina Display 2560x1600   \n",
       "2                                            1440x900   \n",
       "3                                   Full HD 1920x1080   \n",
       "4                  IPS Panel Retina Display 2880x1800   \n",
       "5                  IPS Panel Retina Display 2560x1600   \n",
       "...                                               ...   \n",
       "1303       IPS Panel Quad HD+ / Touchscreen 3200x1800   \n",
       "1307                      IPS Panel Full HD 1920x1080   \n",
       "1311                      IPS Panel Full HD 1920x1080   \n",
       "1313                                         1366x768   \n",
       "1317       IPS Panel Quad HD+ / Touchscreen 3200x1800   \n",
       "\n",
       "                                   Cpu   Ram               Memory  \\\n",
       "laptop_ID                                                           \n",
       "1                 Intel Core i5 2.3GHz   8GB            128GB SSD   \n",
       "2                 Intel Core i5 1.8GHz   8GB  128GB Flash Storage   \n",
       "3           Intel Core i5 7200U 2.5GHz   8GB            256GB SSD   \n",
       "4                 Intel Core i7 2.7GHz  16GB            512GB SSD   \n",
       "5                 Intel Core i5 3.1GHz   8GB            256GB SSD   \n",
       "...                                ...   ...                  ...   \n",
       "1303        Intel Core i7 6500U 2.5GHz  16GB            512GB SSD   \n",
       "1307          Intel Core M 6Y30 0.9GHz   8GB            512GB SSD   \n",
       "1311       Intel Core i7 6700HQ 2.6GHz   8GB              1TB HDD   \n",
       "1313        Intel Core i7 7500U 2.7GHz   8GB              1TB HDD   \n",
       "1317        Intel Core i7 6500U 2.5GHz  16GB            512GB SSD   \n",
       "\n",
       "                                    Gpu       OpSys  Weight  Price_euros  \n",
       "laptop_ID                                                                 \n",
       "1          Intel Iris Plus Graphics 640       macOS  1.37kg      1339.69  \n",
       "2                Intel HD Graphics 6000       macOS  1.34kg       898.94  \n",
       "3                 Intel HD Graphics 620       No OS  1.86kg       575.00  \n",
       "4                    AMD Radeon Pro 455       macOS  1.83kg      2537.45  \n",
       "5          Intel Iris Plus Graphics 650       macOS  1.37kg      1803.60  \n",
       "...                                 ...         ...     ...          ...  \n",
       "1303              Intel HD Graphics 520  Windows 10   1.3kg      1499.00  \n",
       "1307              Intel HD Graphics 515  Windows 10   1.2kg       729.00  \n",
       "1311            Nvidia GeForce GTX 960M  Windows 10   2.6kg       899.00  \n",
       "1313                 AMD Radeon R5 M430       Linux   2.3kg       805.99  \n",
       "1317              Intel HD Graphics 520  Windows 10   1.3kg      1499.00  \n",
       "\n",
       "[819 rows x 12 columns]"
      ]
     },
     "execution_count": 77,
     "metadata": {},
     "output_type": "execute_result"
    }
   ],
   "source": [
    "df[(df['Ram'] == '8GB') | (df['Ram'] == '16GB')]"
   ]
  },
  {
   "cell_type": "markdown",
   "id": "d39e33f3",
   "metadata": {},
   "source": [
    "2 method"
   ]
  },
  {
   "cell_type": "code",
   "execution_count": 84,
   "id": "0aac460f",
   "metadata": {},
   "outputs": [
    {
     "data": {
      "text/plain": [
       "13"
      ]
     },
     "execution_count": 84,
     "metadata": {},
     "output_type": "execute_result"
    }
   ],
   "source": [
    "df[(df['Ram'].isin(['8GB', '16GB'])) & (df['OpSys'] == 'Windows 10') & (df['Price_euros'] <500)].shape[0]"
   ]
  },
  {
   "cell_type": "markdown",
   "id": "13df68ac",
   "metadata": {},
   "source": [
    "2. Выберите ноутбук клиенту.\n",
    "\n",
    "Клиент хочет подобрать ноутбук от MSI, с видеокартой Nvidia GeForce GTX 1050 Ti и главное не с диагональю 15.6. В какой ценовой категории вышли подобные ноутбуки?"
   ]
  },
  {
   "cell_type": "code",
   "execution_count": 97,
   "id": "8e1a5c28",
   "metadata": {},
   "outputs": [
    {
     "data": {
      "text/plain": [
       "laptop_ID\n",
       "336     1199.00\n",
       "400     1349.00\n",
       "732     1348.48\n",
       "931     1599.00\n",
       "1174    1492.80\n",
       "Name: Price_euros, dtype: float64"
      ]
     },
     "execution_count": 97,
     "metadata": {},
     "output_type": "execute_result"
    }
   ],
   "source": [
    "new = df[(df['Company'] == 'MSI') & (df['Gpu'] == 'Nvidia GeForce GTX 1050 Ti') & (df['Inches'] != 15.6)]['Price_euros']\n",
    "new"
   ]
  },
  {
   "cell_type": "markdown",
   "id": "17543b1c",
   "metadata": {},
   "source": [
    "3. Что дешевле?\n",
    "\n",
    "В среднем дешевле ноутбуки с CPU Intel Core i7 7700HQ 2.8GHz или Intel Core i7 7600U 2.8GHz?"
   ]
  },
  {
   "cell_type": "code",
   "execution_count": 98,
   "id": "bc1fa36e",
   "metadata": {},
   "outputs": [
    {
     "data": {
      "text/plain": [
       "(1199.0, 1599.0)"
      ]
     },
     "execution_count": 98,
     "metadata": {},
     "output_type": "execute_result"
    }
   ],
   "source": [
    "new.min(), new.max()"
   ]
  },
  {
   "cell_type": "code",
   "execution_count": 99,
   "id": "0426f6d7",
   "metadata": {},
   "outputs": [
    {
     "data": {
      "text/plain": [
       "1760.4084246575342"
      ]
     },
     "execution_count": 99,
     "metadata": {},
     "output_type": "execute_result"
    }
   ],
   "source": [
    "df[df['Cpu'] == 'Intel Core i7 7700HQ 2.8GHz']['Price_euros'].mean()"
   ]
  },
  {
   "cell_type": "code",
   "execution_count": 102,
   "id": "a76e60fd",
   "metadata": {},
   "outputs": [
    {
     "data": {
      "text/plain": [
       "1915.710769230769"
      ]
     },
     "execution_count": 102,
     "metadata": {},
     "output_type": "execute_result"
    }
   ],
   "source": [
    "df[df['Cpu'] == 'Intel Core i7 7600U 2.8GHz']['Price_euros'].mean()"
   ]
  },
  {
   "cell_type": "code",
   "execution_count": null,
   "id": "2f565744",
   "metadata": {},
   "outputs": [],
   "source": []
  }
 ],
 "metadata": {
  "kernelspec": {
   "display_name": "Python 3 (ipykernel)",
   "language": "python",
   "name": "python3"
  },
  "language_info": {
   "codemirror_mode": {
    "name": "ipython",
    "version": 3
   },
   "file_extension": ".py",
   "mimetype": "text/x-python",
   "name": "python",
   "nbconvert_exporter": "python",
   "pygments_lexer": "ipython3",
   "version": "3.11.4"
  }
 },
 "nbformat": 4,
 "nbformat_minor": 5
}
