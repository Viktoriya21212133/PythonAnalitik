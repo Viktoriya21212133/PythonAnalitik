{
 "cells": [
  {
   "cell_type": "markdown",
   "id": "3c124a74",
   "metadata": {},
   "source": [
    "## Задание 4"
   ]
  },
  {
   "cell_type": "markdown",
   "id": "ba3ae4fc",
   "metadata": {},
   "source": [
    "### 4.1. Сгенерируйте случайные целые числа от 0 до 100 в количестве 5 штук с помощью модуля random\n",
    "- зафиксируйте псевдогенерацию, чтобы сгенерированные значения всегда были одинаковые\n",
    "- используйте list comprehensions"
   ]
  },
  {
   "cell_type": "code",
   "execution_count": 1,
   "id": "0957a986",
   "metadata": {},
   "outputs": [],
   "source": [
    "import random"
   ]
  },
  {
   "cell_type": "code",
   "execution_count": 2,
   "id": "81d9eb42",
   "metadata": {},
   "outputs": [
    {
     "data": {
      "text/plain": [
       "[79, 32, 94, 45, 88]"
      ]
     },
     "execution_count": 2,
     "metadata": {},
     "output_type": "execute_result"
    }
   ],
   "source": [
    "random.seed(5)\n",
    "data = [random.randint(0, 100) for _ in \"nhmjr\"]\n",
    "data"
   ]
  },
  {
   "cell_type": "markdown",
   "id": "26aafa91",
   "metadata": {},
   "source": [
    "### 4.2. Напишите генератор\n",
    "\n",
    "- Генератор на вход принимает список с данными о клиенте (данные из пункт 4.1)\n",
    "- Внутри генератора реализуйте обхд по списку с данными\n",
    "\n",
    "На каждой итерации генератор будет возвращать кортеж из двух элементов:\n",
    "\n",
    "1. данные по клиенту (в зависимости от итерации, на 0 итерации вернется 0 элемент, на 1 итерации вернется 1 элемент и т.д.)\n",
    "2. целочисленное значение, которое показывает, сколько секунд прошло с предыдущей итерации\n",
    "\n",
    "Примечание: секунды, которые возвращаются должны показывать время не с начала запуска генератора, а именно то время, которое прошло с предыдущей итерации. А значит время на первой итерации должно равняться нулю.\n",
    "\n",
    "- Используйте функцию time из модуля time для подсчета времени.\n",
    "- Чтобы проверить работу маймера, запустите проход по генератору в цикле с time.sleep(2)"
   ]
  },
  {
   "cell_type": "code",
   "execution_count": 3,
   "id": "0e85d7f6",
   "metadata": {},
   "outputs": [],
   "source": [
    "import time"
   ]
  },
  {
   "cell_type": "code",
   "execution_count": 7,
   "id": "544a466c",
   "metadata": {},
   "outputs": [],
   "source": [
    "def func(nums: list) -> tuple:\n",
    "    last_time = None\n",
    "    for num in nums:\n",
    "        cur_time = time.time()\n",
    "        if last_time:\n",
    "            delta = cur_time - last_time\n",
    "        else:\n",
    "            delta = 0\n",
    "        last_time = time.time()\n",
    "        yield num, int(delta)"
   ]
  },
  {
   "cell_type": "code",
   "execution_count": 8,
   "id": "e70bfe5a",
   "metadata": {},
   "outputs": [
    {
     "data": {
      "text/plain": [
       "<generator object func at 0x000001F6FC083140>"
      ]
     },
     "execution_count": 8,
     "metadata": {},
     "output_type": "execute_result"
    }
   ],
   "source": [
    "func(data)"
   ]
  },
  {
   "cell_type": "code",
   "execution_count": 9,
   "id": "bd17fa35",
   "metadata": {},
   "outputs": [
    {
     "name": "stdout",
     "output_type": "stream",
     "text": [
      "(79, 0)\n",
      "(32, 2)\n",
      "(94, 2)\n",
      "(45, 2)\n",
      "(88, 2)\n"
     ]
    }
   ],
   "source": [
    "for cur_items in func(data):\n",
    "    print(cur_items)\n",
    "    time.sleep(2)"
   ]
  },
  {
   "cell_type": "code",
   "execution_count": 10,
   "id": "64cd6af8",
   "metadata": {},
   "outputs": [],
   "source": [
    "def func(nums: list) -> tuple:\n",
    "    last_time = time.time()\n",
    "    for num in nums:\n",
    "        cur_time = time.time()\n",
    "        if last_time:\n",
    "            delta = cur_time - last_time\n",
    "        else:\n",
    "            delta = 0\n",
    "        last_time = time.time()\n",
    "        yield num, int(delta)"
   ]
  },
  {
   "cell_type": "code",
   "execution_count": 11,
   "id": "8ffbe096",
   "metadata": {},
   "outputs": [
    {
     "name": "stdout",
     "output_type": "stream",
     "text": [
      "(79, 0)\n",
      "(32, 2)\n",
      "(94, 2)\n",
      "(45, 2)\n",
      "(88, 2)\n"
     ]
    }
   ],
   "source": [
    "for cur_items in func(data):\n",
    "    print(cur_items)\n",
    "    time.sleep(2)"
   ]
  },
  {
   "cell_type": "code",
   "execution_count": null,
   "id": "e14fd13a",
   "metadata": {},
   "outputs": [],
   "source": []
  }
 ],
 "metadata": {
  "kernelspec": {
   "display_name": "Python 3 (ipykernel)",
   "language": "python",
   "name": "python3"
  },
  "language_info": {
   "codemirror_mode": {
    "name": "ipython",
    "version": 3
   },
   "file_extension": ".py",
   "mimetype": "text/x-python",
   "name": "python",
   "nbconvert_exporter": "python",
   "pygments_lexer": "ipython3",
   "version": "3.11.4"
  }
 },
 "nbformat": 4,
 "nbformat_minor": 5
}
